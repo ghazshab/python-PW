{
 "cells": [
  {
   "cell_type": "code",
   "execution_count": 1,
   "id": "d98eb8a6-c56e-4c76-814e-3004489a2253",
   "metadata": {},
   "outputs": [],
   "source": [
    "#Print nmber from 1 to 5 ing a while loop."
   ]
  },
  {
   "cell_type": "code",
   "execution_count": 14,
   "id": "d4e2989c-f6e5-49d0-a23c-e9d1d52a1908",
   "metadata": {},
   "outputs": [
    {
     "name": "stdout",
     "output_type": "stream",
     "text": [
      "1\n",
      "2\n",
      "3\n",
      "4\n",
      "5\n"
     ]
    }
   ],
   "source": [
    "i = 1\n",
    "while(i<=5):\n",
    "    print(i)    \n",
    "    i += 1"
   ]
  },
  {
   "cell_type": "code",
   "execution_count": null,
   "id": "1b9ab58a-44b8-45f0-9fab-0eee5e0e81d3",
   "metadata": {},
   "outputs": [],
   "source": [
    "#Calclate the m of nmber from 1 to 10 ing a while loop."
   ]
  },
  {
   "cell_type": "code",
   "execution_count": 18,
   "id": "f5148477-17cc-42a5-ba74-14a73ce0315d",
   "metadata": {},
   "outputs": [
    {
     "name": "stdout",
     "output_type": "stream",
     "text": [
      "1\n",
      "2\n",
      "3\n",
      "4\n",
      "5\n",
      "6\n",
      "7\n",
      "8\n",
      "9\n",
      "10\n"
     ]
    }
   ],
   "source": [
    "num = 1\n",
    "while (num <= 10):\n",
    "    print(num)\n",
    "    num += 1"
   ]
  },
  {
   "cell_type": "code",
   "execution_count": 19,
   "id": "570e5fbd-85ab-4ae1-bd4c-eaf52adb9486",
   "metadata": {},
   "outputs": [],
   "source": [
    "#Calclate the factorial of a nmber ing a for loop."
   ]
  },
  {
   "cell_type": "code",
   "execution_count": 29,
   "id": "2a9908d3-f303-45c3-af93-633e410b3758",
   "metadata": {},
   "outputs": [
    {
     "name": "stdout",
     "output_type": "stream",
     "text": [
      "The factorial of 5 is 120\n"
     ]
    }
   ],
   "source": [
    "import math\n",
    "num = 5 \n",
    "factorial = math.factorial(num)\n",
    "print(\"The factorial of\", num, \"is\", factorial)"
   ]
  },
  {
   "cell_type": "code",
   "execution_count": 30,
   "id": "412de810-3e46-4344-acfa-e7273cbe439f",
   "metadata": {},
   "outputs": [],
   "source": [
    "#Cont the nmber of vowel in a tring ing a for loop."
   ]
  },
  {
   "cell_type": "code",
   "execution_count": 31,
   "id": "7d91bd54-6fd1-40f8-8c1d-b44eabcc62d8",
   "metadata": {},
   "outputs": [
    {
     "name": "stdout",
     "output_type": "stream",
     "text": [
      "5\n"
     ]
    }
   ],
   "source": [
    "string = \"GeekforGeeks!\"\n",
    "vowels = \"aeiouAEIOU\"\n",
    " \n",
    "count = sum(string.count(vowel) for vowel in vowels)\n",
    "print(count)"
   ]
  },
  {
   "cell_type": "code",
   "execution_count": null,
   "id": "327c4ef9-a533-4d65-93db-22305934fe05",
   "metadata": {},
   "outputs": [],
   "source": [
    "#Print a pattern ing neted loop."
   ]
  },
  {
   "cell_type": "code",
   "execution_count": 1,
   "id": "ed037581-485c-408c-af98-56061e4c5f5c",
   "metadata": {},
   "outputs": [
    {
     "name": "stdout",
     "output_type": "stream",
     "text": [
      "\n",
      "1 \n",
      "2 2 \n",
      "3 3 3 \n",
      "4 4 4 4 \n",
      "5 5 5 5 5 \n"
     ]
    }
   ],
   "source": [
    "rows = 6\n",
    "for i in range(rows):\n",
    "    for j in range(i):\n",
    "        print(i, end=' ')\n",
    "    print('')"
   ]
  },
  {
   "cell_type": "code",
   "execution_count": null,
   "id": "5f531b00-b7ba-4fdf-a4a5-e67db7d1ccd4",
   "metadata": {},
   "outputs": [],
   "source": [
    "#Generate a mltiplication table uing nested loop."
   ]
  },
  {
   "cell_type": "code",
   "execution_count": 14,
   "id": "1cbb9017-28df-4578-883d-34aa81dc7750",
   "metadata": {},
   "outputs": [
    {
     "name": "stdout",
     "output_type": "stream",
     "text": [
      " 1  2  3  4  5  6  7  8  9 10 \n",
      "\n",
      " 2  4  6  8 10 12 14 16 18 20 \n",
      "\n",
      " 3  6  9 12 15 18 21 24 27 30 \n",
      "\n",
      " 4  8 12 16 20 24 28 32 36 40 \n",
      "\n",
      " 5 10 15 20 25 30 35 40 45 50 \n",
      "\n",
      " 6 12 18 24 30 36 42 48 54 60 \n",
      "\n",
      " 7 14 21 28 35 42 49 56 63 70 \n",
      "\n",
      " 8 16 24 32 40 48 56 64 72 80 \n",
      "\n",
      " 9 18 27 36 45 54 63 72 81 90 \n",
      "\n",
      "10 20 30 40 50 60 70 80 90 100 \n",
      "\n"
     ]
    }
   ],
   "source": [
    "rows = 10\n",
    "columns = 10\n",
    "for i in range(1, rows+1):\n",
    "    for j in range(1, columns+1):\n",
    "        c=i*j\n",
    "        print(\"{:2d} \" .format(c), end = '')\n",
    "    print('\\n')"
   ]
  },
  {
   "cell_type": "code",
   "execution_count": null,
   "id": "e773da6e-fd2d-4a9f-987e-f78df2390af1",
   "metadata": {},
   "outputs": [],
   "source": []
  }
 ],
 "metadata": {
  "kernelspec": {
   "display_name": "Python 3 (ipykernel)",
   "language": "python",
   "name": "python3"
  },
  "language_info": {
   "codemirror_mode": {
    "name": "ipython",
    "version": 3
   },
   "file_extension": ".py",
   "mimetype": "text/x-python",
   "name": "python",
   "nbconvert_exporter": "python",
   "pygments_lexer": "ipython3",
   "version": "3.10.8"
  },
  "toc-autonumbering": true,
  "toc-showcode": false
 },
 "nbformat": 4,
 "nbformat_minor": 5
}
