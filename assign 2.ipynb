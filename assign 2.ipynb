{
 "cells": [
  {
   "cell_type": "code",
   "execution_count": 1,
   "id": "18d9c792-3955-40a7-9fd1-2f3968003f8e",
   "metadata": {},
   "outputs": [],
   "source": [
    "# Calculate the sum, difference, product, and quotient of two numbers."
   ]
  },
  {
   "cell_type": "code",
   "execution_count": 2,
   "id": "a42ef60f-c26f-4f2f-8663-0e439265c170",
   "metadata": {},
   "outputs": [
    {
     "name": "stdout",
     "output_type": "stream",
     "text": [
      "15\n"
     ]
    }
   ],
   "source": [
    "a = 7\n",
    "b = 8\n",
    "c = (a+b)\n",
    "print(c)"
   ]
  },
  {
   "cell_type": "code",
   "execution_count": 3,
   "id": "6926fe7b-d69b-4572-b528-5984598cd0aa",
   "metadata": {},
   "outputs": [
    {
     "name": "stdout",
     "output_type": "stream",
     "text": [
      "41\n"
     ]
    }
   ],
   "source": [
    "a = 66\n",
    "b = 25\n",
    "c = (a-b)\n",
    "print(c)"
   ]
  },
  {
   "cell_type": "code",
   "execution_count": 4,
   "id": "bfece2cd-8b8e-4063-bbe3-c051e0cbb7b5",
   "metadata": {},
   "outputs": [
    {
     "name": "stdout",
     "output_type": "stream",
     "text": [
      "56\n"
     ]
    }
   ],
   "source": [
    "a = 7\n",
    "b = 8\n",
    "c = (a*b)\n",
    "print(c)"
   ]
  },
  {
   "cell_type": "code",
   "execution_count": 5,
   "id": "e8949013-ad9a-4278-8b05-33970593ba67",
   "metadata": {},
   "outputs": [
    {
     "name": "stdout",
     "output_type": "stream",
     "text": [
      "4\n"
     ]
    }
   ],
   "source": [
    "a = 16\n",
    "b = 4\n",
    "c = (a//b)\n",
    "print(c)"
   ]
  },
  {
   "cell_type": "code",
   "execution_count": 6,
   "id": "128870b8-10f1-4267-a8e4-ff5ef0305294",
   "metadata": {},
   "outputs": [],
   "source": [
    "# Perform various assignment operations on a variable."
   ]
  },
  {
   "cell_type": "code",
   "execution_count": 1,
   "id": "6b730f51-c111-43f4-b876-74b8020891b4",
   "metadata": {},
   "outputs": [
    {
     "data": {
      "text/plain": [
       "9"
      ]
     },
     "execution_count": 1,
     "metadata": {},
     "output_type": "execute_result"
    }
   ],
   "source": [
    "#\n",
    "a = 5\n",
    "b = 4\n",
    "a+b"
   ]
  },
  {
   "cell_type": "code",
   "execution_count": 4,
   "id": "55359822-59d4-4624-a1bb-8cb6d936feb2",
   "metadata": {},
   "outputs": [
    {
     "name": "stdout",
     "output_type": "stream",
     "text": [
      "10\n"
     ]
    }
   ],
   "source": [
    "x = 5\n",
    "x += 5\n",
    "print(x)"
   ]
  },
  {
   "cell_type": "code",
   "execution_count": 11,
   "id": "a9db9c7d-6fd6-4ca1-9968-29d6510857d4",
   "metadata": {},
   "outputs": [
    {
     "name": "stdout",
     "output_type": "stream",
     "text": [
      "2\n"
     ]
    }
   ],
   "source": [
    "y = 5\n",
    "y -= 3\n",
    "print(y)"
   ]
  },
  {
   "cell_type": "code",
   "execution_count": 18,
   "id": "5c09749f-c3ca-44b8-96e9-49f49c8ef775",
   "metadata": {},
   "outputs": [
    {
     "name": "stdout",
     "output_type": "stream",
     "text": [
      "30\n"
     ]
    }
   ],
   "source": [
    "s = 6\n",
    "s *= 5\n",
    "print(s)"
   ]
  },
  {
   "cell_type": "code",
   "execution_count": 15,
   "id": "e1f7b4eb-f5df-42b3-a482-e993c4bedbcc",
   "metadata": {},
   "outputs": [
    {
     "name": "stdout",
     "output_type": "stream",
     "text": [
      "8.0\n"
     ]
    }
   ],
   "source": [
    "i = 40\n",
    "i /= 5\n",
    "print(i)"
   ]
  },
  {
   "cell_type": "code",
   "execution_count": 19,
   "id": "9f56f29f-13c5-45c7-9b14-85aef41db502",
   "metadata": {},
   "outputs": [],
   "source": [
    "#Compare two numbers and print the resslts."
   ]
  },
  {
   "cell_type": "code",
   "execution_count": 20,
   "id": "d2411496-c291-4073-b2b8-9e42a4232ea3",
   "metadata": {},
   "outputs": [
    {
     "name": "stdout",
     "output_type": "stream",
     "text": [
      "unequal\n"
     ]
    }
   ],
   "source": [
    "a = 20\n",
    "b = 10\n",
    "if a==b:\n",
    "    print(\"equal\")\n",
    "else:\n",
    "    print(\"unequal\")\n"
   ]
  },
  {
   "cell_type": "code",
   "execution_count": 21,
   "id": "278973e5-59a9-489b-a5d5-bc5a99ed288f",
   "metadata": {},
   "outputs": [],
   "source": [
    "#Check conditions using logical operators."
   ]
  },
  {
   "cell_type": "code",
   "execution_count": 23,
   "id": "f745119b-1fcd-43e9-9842-02138403bd56",
   "metadata": {},
   "outputs": [
    {
     "name": "stdout",
     "output_type": "stream",
     "text": [
      "You have the flu\n"
     ]
    }
   ],
   "source": [
    "you_are_a_boy = True\n",
    "you_are_a_girl = False\n",
    "\n",
    "if you_are_a_boy and you_are_a_girl:\n",
    "    print(\"You don't have the flu\")\n",
    "elif feels_like_hit_by_train:\n",
    "    print(\"You have the flu\")"
   ]
  },
  {
   "cell_type": "code",
   "execution_count": 24,
   "id": "3d4837ed-f14e-4203-a714-8eb533401d1b",
   "metadata": {},
   "outputs": [
    {
     "name": "stdout",
     "output_type": "stream",
     "text": [
      "dozen\n"
     ]
    }
   ],
   "source": [
    "value = 14\n",
    "\n",
    "if value < 10:\n",
    "    print(\"single unit value\")\n",
    "elif value < 100:\n",
    "    print(\"dozen\")\n",
    "elif value < 1000:\n",
    "      print(\"hundreds\")\n",
    "elif value < 10000:\n",
    "      print(\"thousands\")\n",
    "else:\n",
    "      print(\"hundreds of thousands, or maybe more\")"
   ]
  },
  {
   "cell_type": "code",
   "execution_count": 25,
   "id": "8916ddf5-5f04-448e-9a24-460ac62155eb",
   "metadata": {},
   "outputs": [],
   "source": [
    "#Check the identity of variables."
   ]
  },
  {
   "cell_type": "code",
   "execution_count": 26,
   "id": "dab1b09f-fe44-4b54-9703-76973d9d2ba0",
   "metadata": {},
   "outputs": [],
   "source": [
    "#The Python id() function accepts a single parameter and returns a unique identity (integer value) of that object.\n",
    "#object = int, float, string, tuple, list, class, function, etc."
   ]
  },
  {
   "cell_type": "code",
   "execution_count": 27,
   "id": "76ec6e24-a727-4f32-b7ba-1dc906e4bc0f",
   "metadata": {},
   "outputs": [],
   "source": [
    "#Perform bitwise operations on any two integers."
   ]
  },
  {
   "cell_type": "code",
   "execution_count": 28,
   "id": "1424d68f-6d42-4c65-85c8-aec37561dbd7",
   "metadata": {},
   "outputs": [
    {
     "name": "stdout",
     "output_type": "stream",
     "text": [
      "a: 60 b: 13 a&b: 12\n"
     ]
    }
   ],
   "source": [
    "a=60\n",
    "b=13\n",
    "print (\"a:\",a, \"b:\",b, \"a&b:\",a&b)"
   ]
  },
  {
   "cell_type": "code",
   "execution_count": 29,
   "id": "b87bd10e-485f-4532-8f2d-d58060f60238",
   "metadata": {},
   "outputs": [
    {
     "name": "stdout",
     "output_type": "stream",
     "text": [
      "a: 60 b: 13 a|b: 61\n",
      "a: 0b111100\n",
      "b: 0b1101\n"
     ]
    }
   ],
   "source": [
    "a=60\n",
    "b=13\n",
    "print (\"a:\",a, \"b:\",b, \"a|b:\",a|b)\n",
    "print (\"a:\", bin(a))\n",
    "print (\"b:\", bin(b))"
   ]
  },
  {
   "cell_type": "code",
   "execution_count": 30,
   "id": "48b552b8-0e9c-4ec1-ae1a-10e726d5e4dd",
   "metadata": {},
   "outputs": [
    {
     "data": {
      "text/plain": [
       "61"
      ]
     },
     "execution_count": 30,
     "metadata": {},
     "output_type": "execute_result"
    }
   ],
   "source": [
    ">>> int('00111101',2)\n",
    "61"
   ]
  },
  {
   "cell_type": "code",
   "execution_count": 31,
   "id": "5dede29a-7193-4990-bc01-3513eeed1710",
   "metadata": {},
   "outputs": [
    {
     "name": "stdout",
     "output_type": "stream",
     "text": [
      "a: 60 b: 13 a^b: 49\n"
     ]
    }
   ],
   "source": [
    "a=60\n",
    "b=13\n",
    "print (\"a:\",a, \"b:\",b, \"a^b:\",a^b)"
   ]
  },
  {
   "cell_type": "code",
   "execution_count": 32,
   "id": "611f05b5-8c12-4e0d-97f6-ee05c8cf78cd",
   "metadata": {},
   "outputs": [],
   "source": [
    "#Use unary operators to change the sign of a number."
   ]
  },
  {
   "cell_type": "code",
   "execution_count": 34,
   "id": "f8d81d34-7c61-421c-8f93-208cc6ee4e6f",
   "metadata": {},
   "outputs": [
    {
     "name": "stdout",
     "output_type": "stream",
     "text": [
      "decoded number is : 8\n"
     ]
    }
   ],
   "source": [
    "code = \"111111110\"\n",
    "count = 0\n",
    " \n",
    "for i in code:\n",
    "    if i == \"1\":\n",
    "        count += 1\n",
    "         \n",
    "print(\"decoded number is :\", count)"
   ]
  },
  {
   "cell_type": "code",
   "execution_count": 37,
   "id": "b52c408b-3610-4ffe-9593-e1d0a1cb092c",
   "metadata": {},
   "outputs": [],
   "source": [
    "#Use the ternary operator to assign @al$es based on conditions."
   ]
  },
  {
   "cell_type": "code",
   "execution_count": 36,
   "id": "52f9e63b-86a2-45e6-b11c-baecfceb60be",
   "metadata": {},
   "outputs": [
    {
     "name": "stdout",
     "output_type": "stream",
     "text": [
      "Next level\n"
     ]
    }
   ],
   "source": [
    "user_score = 90\n",
    "\n",
    "if user_score > 50:\n",
    "    print(\"Next level\")\n",
    "else:\n",
    "    print(\"Repeat level\")"
   ]
  },
  {
   "cell_type": "code",
   "execution_count": null,
   "id": "f7603ffa-8c45-403e-bd33-c1d5c06d8cc1",
   "metadata": {},
   "outputs": [],
   "source": []
  }
 ],
 "metadata": {
  "kernelspec": {
   "display_name": "Python 3 (ipykernel)",
   "language": "python",
   "name": "python3"
  },
  "language_info": {
   "codemirror_mode": {
    "name": "ipython",
    "version": 3
   },
   "file_extension": ".py",
   "mimetype": "text/x-python",
   "name": "python",
   "nbconvert_exporter": "python",
   "pygments_lexer": "ipython3",
   "version": "3.10.8"
  }
 },
 "nbformat": 4,
 "nbformat_minor": 5
}
