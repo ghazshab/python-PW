{
  "nbformat": 4,
  "nbformat_minor": 0,
  "metadata": {
    "colab": {
      "provenance": [],
      "authorship_tag": "ABX9TyNK9te+CVm/MZzsxxlGwK1z",
      "include_colab_link": true
    },
    "kernelspec": {
      "name": "python3",
      "display_name": "Python 3"
    },
    "language_info": {
      "name": "python"
    }
  },
  "cells": [
    {
      "cell_type": "markdown",
      "metadata": {
        "id": "view-in-github",
        "colab_type": "text"
      },
      "source": [
        "<a href=\"https://colab.research.google.com/github/ghazshab/python-PW/blob/main/week_1_Assignment_1.ipynb\" target=\"_parent\"><img src=\"https://colab.research.google.com/assets/colab-badge.svg\" alt=\"Open In Colab\"/></a>"
      ]
    },
    {
      "cell_type": "code",
      "execution_count": 1,
      "metadata": {
        "id": "4q_gChwuHwHu"
      },
      "outputs": [],
      "source": [
        "#Covert a iteger to a floatig-poit umber."
      ]
    },
    {
      "cell_type": "code",
      "source": [
        "a = 10\n",
        "float(a)"
      ],
      "metadata": {
        "colab": {
          "base_uri": "https://localhost:8080/"
        },
        "id": "5UwKEGbMH_Gi",
        "outputId": "443e6635-a8e2-4bbb-81ac-15458b251e15"
      },
      "execution_count": 2,
      "outputs": [
        {
          "output_type": "execute_result",
          "data": {
            "text/plain": [
              "10.0"
            ]
          },
          "metadata": {},
          "execution_count": 2
        }
      ]
    },
    {
      "cell_type": "code",
      "source": [
        "# Covert a float to a iteger."
      ],
      "metadata": {
        "id": "sWdZVRwqICNR"
      },
      "execution_count": 3,
      "outputs": []
    },
    {
      "cell_type": "code",
      "source": [
        "y = 30.45\n",
        "type(y)"
      ],
      "metadata": {
        "colab": {
          "base_uri": "https://localhost:8080/"
        },
        "id": "WiHQB2uPIGJk",
        "outputId": "e9ebf429-080e-44d0-eecf-13fca60e2799"
      },
      "execution_count": 4,
      "outputs": [
        {
          "output_type": "execute_result",
          "data": {
            "text/plain": [
              "float"
            ]
          },
          "metadata": {},
          "execution_count": 4
        }
      ]
    },
    {
      "cell_type": "code",
      "source": [
        "int(y)"
      ],
      "metadata": {
        "colab": {
          "base_uri": "https://localhost:8080/"
        },
        "id": "kie4EAKvIIjm",
        "outputId": "79012065-1b4e-4932-a2a3-4fcc410f4924"
      },
      "execution_count": 5,
      "outputs": [
        {
          "output_type": "execute_result",
          "data": {
            "text/plain": [
              "30"
            ]
          },
          "metadata": {},
          "execution_count": 5
        }
      ]
    },
    {
      "cell_type": "code",
      "source": [
        "#2 Covert a iteger to a %trig."
      ],
      "metadata": {
        "id": "CplEtxoqIOB2"
      },
      "execution_count": 6,
      "outputs": []
    },
    {
      "cell_type": "code",
      "source": [
        "a = 124\n",
        "type(a)"
      ],
      "metadata": {
        "colab": {
          "base_uri": "https://localhost:8080/"
        },
        "id": "pHcB7Q3rISu4",
        "outputId": "d5a51ea5-6cd5-4531-a458-3d2e53a5aae3"
      },
      "execution_count": 7,
      "outputs": [
        {
          "output_type": "execute_result",
          "data": {
            "text/plain": [
              "int"
            ]
          },
          "metadata": {},
          "execution_count": 7
        }
      ]
    },
    {
      "cell_type": "code",
      "source": [
        "str(a)"
      ],
      "metadata": {
        "colab": {
          "base_uri": "https://localhost:8080/",
          "height": 35
        },
        "id": "dXLIC2KLIUt8",
        "outputId": "601415f3-42d8-4287-9b92-7f0d69e10c1c"
      },
      "execution_count": 8,
      "outputs": [
        {
          "output_type": "execute_result",
          "data": {
            "text/plain": [
              "'124'"
            ],
            "application/vnd.google.colaboratory.intrinsic+json": {
              "type": "string"
            }
          },
          "metadata": {},
          "execution_count": 8
        }
      ]
    },
    {
      "cell_type": "code",
      "source": [
        "#C Covert a li%t to a tuple."
      ],
      "metadata": {
        "id": "MMinPE1SIXES"
      },
      "execution_count": 9,
      "outputs": []
    },
    {
      "cell_type": "code",
      "source": [
        "mylist = [1, 2, 3, \"ajay\", \"ghaz\"]\n",
        "print(mylist)\n",
        "mytuple = tuple(mylist)\n",
        "print(\"tuple = \", mytuple)"
      ],
      "metadata": {
        "colab": {
          "base_uri": "https://localhost:8080/"
        },
        "id": "wXeSps6gIZhI",
        "outputId": "2c271042-c17d-4d69-ad4a-511a9c845aa6"
      },
      "execution_count": 10,
      "outputs": [
        {
          "output_type": "stream",
          "name": "stdout",
          "text": [
            "[1, 2, 3, 'ajay', 'ghaz']\n",
            "tuple =  (1, 2, 3, 'ajay', 'ghaz')\n"
          ]
        }
      ]
    },
    {
      "cell_type": "code",
      "source": [
        "#I Covert a tuple to a li%t."
      ],
      "metadata": {
        "id": "b62_cQjXIbjz"
      },
      "execution_count": 11,
      "outputs": []
    },
    {
      "cell_type": "code",
      "source": [
        "mytuple = (1, 2, 3, \"ajay\", \"ghaz\")\n",
        "print(mytuple)\n",
        "mylist = list(mytuple)\n",
        "print(\"list = \", mylist)"
      ],
      "metadata": {
        "colab": {
          "base_uri": "https://localhost:8080/"
        },
        "id": "Z97giJalIemO",
        "outputId": "1550d813-09cc-40cf-cdc1-efd062ade6e3"
      },
      "execution_count": 12,
      "outputs": [
        {
          "output_type": "stream",
          "name": "stdout",
          "text": [
            "(1, 2, 3, 'ajay', 'ghaz')\n",
            "list =  [1, 2, 3, 'ajay', 'ghaz']\n"
          ]
        }
      ]
    },
    {
      "cell_type": "code",
      "source": [
        "#Covert a decimal umber to binary."
      ],
      "metadata": {
        "id": "KphC7pfwIgoO"
      },
      "execution_count": 13,
      "outputs": []
    },
    {
      "cell_type": "code",
      "source": [
        "n=int(input(\"enter the no:  \"))\n",
        "s=\"\"\n",
        "while (n>0):\n",
        "    r = n%2\n",
        "    s = str(r)+s\n",
        "    print(s)\n",
        "    n=n//2\n",
        "print(int(s))"
      ],
      "metadata": {
        "colab": {
          "base_uri": "https://localhost:8080/"
        },
        "id": "qmsjJyaoIi7_",
        "outputId": "fc3746b8-b625-4d17-cab7-548fd7a7e2de"
      },
      "execution_count": 14,
      "outputs": [
        {
          "output_type": "stream",
          "name": "stdout",
          "text": [
            "enter the no:  12\n",
            "0\n",
            "00\n",
            "100\n",
            "1100\n",
            "1100\n"
          ]
        }
      ]
    },
    {
      "cell_type": "code",
      "source": [
        "#convert a non-zero number to boolean."
      ],
      "metadata": {
        "id": "aGgZSgELIlXq"
      },
      "execution_count": 15,
      "outputs": []
    },
    {
      "cell_type": "code",
      "source": [
        "x = 0\n",
        "if x:\n",
        "    print(True)\n",
        "else:\n",
        "    print(False)"
      ],
      "metadata": {
        "colab": {
          "base_uri": "https://localhost:8080/"
        },
        "id": "K9ItSHmVIqTA",
        "outputId": "67b958fe-2b1c-4f9a-e341-a678f6e5851b"
      },
      "execution_count": 16,
      "outputs": [
        {
          "output_type": "stream",
          "name": "stdout",
          "text": [
            "False\n"
          ]
        }
      ]
    },
    {
      "cell_type": "code",
      "source": [],
      "metadata": {
        "id": "DnX-cRG_Isfn"
      },
      "execution_count": null,
      "outputs": []
    }
  ]
}