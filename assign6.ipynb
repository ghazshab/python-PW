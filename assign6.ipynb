{
 "cells": [
  {
   "cell_type": "code",
   "execution_count": 1,
   "id": "9f65dd63-75c1-4bfa-a08f-b4358307b91d",
   "metadata": {},
   "outputs": [],
   "source": [
    "# Why might you choose a deque from the collections module to implement a queue instead of using a \n",
    " #regular Python list?"
   ]
  },
  {
   "cell_type": "code",
   "execution_count": 2,
   "id": "85e42e03-5b58-42db-b823-70799d29cfc9",
   "metadata": {},
   "outputs": [],
   "source": [
    "#The deque object from collections is a list-like object that supports fast append and pops from both sides. It also supports thread-safe, memory-efficient operations, and it was specifically designed to be more efficient than lists when used as queues and stacks."
   ]
  },
  {
   "cell_type": "code",
   "execution_count": 3,
   "id": "84bc9952-c768-40d3-a8dd-d269554c7a5c",
   "metadata": {},
   "outputs": [],
   "source": [
    "#Can you explain a real-world scenario where using a stack would be a more practical choice than a list for data storage and retrieval?"
   ]
  },
  {
   "cell_type": "code",
   "execution_count": 4,
   "id": "ba59c7df-c6f1-4921-aaea-567c25370a02",
   "metadata": {},
   "outputs": [],
   "source": [
    "#Real-world examples include the 'undo' function in software applications following the 'LIFO' principle and a web browser's back button function using stack to track visited sites. Real-world applications of stacks are found only in gaming algorithms and they are not used in any system operations or management."
   ]
  },
  {
   "cell_type": "code",
   "execution_count": 5,
   "id": "5a16a8d8-9ec1-4335-b413-793a70e56d02",
   "metadata": {},
   "outputs": [],
   "source": [
    "#What is the primary advantage of using sets in Python, and in what type of problem-solving scenarios are they most useful?"
   ]
  },
  {
   "cell_type": "code",
   "execution_count": 6,
   "id": "9635b81a-ebe2-43db-a4db-2ef627fbf105",
   "metadata": {},
   "outputs": [],
   "source": [
    "#Advantages of a Python Set\n",
    "#Because sets cannot have multiple occurrences of the same element, it makes sets highly useful to efficiently remove duplicate values from a list or tuple and to perform common math operations like unions and intersections."
   ]
  },
  {
   "cell_type": "code",
   "execution_count": 7,
   "id": "fbb4efe4-d540-45b1-9bad-812a3f6125dd",
   "metadata": {},
   "outputs": [],
   "source": [
    "#When might you choose to use an array instead of a list for storing numerical data in Python? What benefits do arrays offer in this context?"
   ]
  },
  {
   "cell_type": "code",
   "execution_count": 8,
   "id": "af3bb58c-b337-47d3-80f6-cffb3ee4e224",
   "metadata": {},
   "outputs": [],
   "source": [
    "#Arrays are incredibly beneficial when you need to process data dynamically. Python arrays are faster than lists because they use less memory. An array is a concept that stores different items of the same type together as one and makes calculating the stance of each element easier by adding an offset to the base number."
   ]
  },
  {
   "cell_type": "code",
   "execution_count": 9,
   "id": "0a3159e7-c295-434a-8c97-ebfad94435a4",
   "metadata": {},
   "outputs": [],
   "source": [
    " #In Python, what's the primary difference between dictionaries and lists, and how does this difference impact their use cases in programming?"
   ]
  },
  {
   "cell_type": "code",
   "execution_count": null,
   "id": "e3b72e24-24d3-4370-bf15-3c7235c6c023",
   "metadata": {},
   "outputs": [],
   "source": [
    "#Key Differences Between List and Dictionary in Python. A list is an ordered collection of items, whereas a dictionary is an unordered data collection in a key: value pair. Elements from the list can be accessed using the index, while the elements of the dictionary can be accessed using keys."
   ]
  }
 ],
 "metadata": {
  "kernelspec": {
   "display_name": "Python 3 (ipykernel)",
   "language": "python",
   "name": "python3"
  },
  "language_info": {
   "codemirror_mode": {
    "name": "ipython",
    "version": 3
   },
   "file_extension": ".py",
   "mimetype": "text/x-python",
   "name": "python",
   "nbconvert_exporter": "python",
   "pygments_lexer": "ipython3",
   "version": "3.10.8"
  }
 },
 "nbformat": 4,
 "nbformat_minor": 5
}
