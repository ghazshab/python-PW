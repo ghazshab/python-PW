{
 "cells": [
  {
   "cell_type": "code",
   "execution_count": 1,
   "id": "92e42465-4fa6-4929-9dd8-f6d543f536dc",
   "metadata": {},
   "outputs": [],
   "source": [
    "#Write a program to print numbers from  to 0, but stop if the number is 5."
   ]
  },
  {
   "cell_type": "code",
   "execution_count": 1,
   "id": "858419dc-30b1-4b6a-b990-631a58991bb4",
   "metadata": {},
   "outputs": [
    {
     "name": "stdout",
     "output_type": "stream",
     "text": [
      "0\n",
      "0\n",
      "1\n",
      "1\n",
      "2\n",
      "2\n",
      "3\n",
      "3\n",
      "4\n",
      "4\n",
      "5\n"
     ]
    }
   ],
   "source": [
    "i=0 \n",
    "while i<=10 :\n",
    "    print(i)\n",
    "    if i==5 or i==8 :\n",
    "        break\n",
    "    print(i)\n",
    "    i+=1"
   ]
  },
  {
   "cell_type": "code",
   "execution_count": 2,
   "id": "b4a0cab8-ef2a-465c-9382-c51007d2efcc",
   "metadata": {},
   "outputs": [],
   "source": [
    "#Write a program to iterate through a list and stop when encountering a specific element."
   ]
  },
  {
   "cell_type": "code",
   "execution_count": 3,
   "id": "42450449-c4cf-4033-a0d8-372dc125e62d",
   "metadata": {},
   "outputs": [
    {
     "name": "stdout",
     "output_type": "stream",
     "text": [
      "apple\n",
      "banana\n",
      "cherry\n",
      "orange\n"
     ]
    }
   ],
   "source": [
    "fruits = ['apple', 'banana', 'cherry', 'orange']\n",
    "index = 0\n",
    "\n",
    "while index < len(fruits):\n",
    "    print(fruits[index])\n",
    "    index += 1"
   ]
  },
  {
   "cell_type": "code",
   "execution_count": null,
   "id": "42dcab99-5b3f-4906-8ed9-2f42dcf5a77f",
   "metadata": {},
   "outputs": [],
   "source": [
    "#Write a program to skip printing even numbers from  to 0."
   ]
  },
  {
   "cell_type": "code",
   "execution_count": 4,
   "id": "9b98bdd3-7310-4cb8-9599-14234783c5e3",
   "metadata": {},
   "outputs": [
    {
     "name": "stdin",
     "output_type": "stream",
     "text": [
      "Enter the start of range:  12\n",
      "Enter the end of range:  30\n"
     ]
    },
    {
     "name": "stdout",
     "output_type": "stream",
     "text": [
      "12 14 16 18 20 22 24 26 28 30 "
     ]
    }
   ],
   "source": [
    "start = int(input(\"Enter the start of range: \"))\n",
    "end = int(input(\"Enter the end of range: \"))\n",
    "for num in range(start, end + 1):\n",
    "    if num % 2 == 0:\n",
    "        print(num, end=\" \")"
   ]
  },
  {
   "cell_type": "code",
   "execution_count": 5,
   "id": "676632aa-c828-4f13-9d1c-ea6d3e1438b6",
   "metadata": {},
   "outputs": [],
   "source": [
    "#Write a program to print numbers from 0 to 9 using rangeXF."
   ]
  },
  {
   "cell_type": "code",
   "execution_count": 6,
   "id": "260c19cc-ae48-4a50-80cc-ca41fb1a6c78",
   "metadata": {},
   "outputs": [
    {
     "name": "stdout",
     "output_type": "stream",
     "text": [
      "10\n",
      "12\n",
      "14\n",
      "16\n",
      "18\n",
      "20\n"
     ]
    }
   ],
   "source": [
    "for num in range(10,21,2):\n",
    "      print(num)"
   ]
  },
  {
   "cell_type": "code",
   "execution_count": 8,
   "id": "832aa159-2aa4-4ab6-8a18-726a2e607103",
   "metadata": {},
   "outputs": [],
   "source": [
    "#Write a program to print multiplication tables from  to 5, but stop after the first table is printed for each\n",
    "#number."
   ]
  },
  {
   "cell_type": "code",
   "execution_count": 10,
   "id": "0d16d8e0-c21e-46fa-85c5-d56bdcd1132f",
   "metadata": {},
   "outputs": [
    {
     "name": "stdin",
     "output_type": "stream",
     "text": [
      "Enter the number of which the user wants to print the multiplication table:  1\n"
     ]
    },
    {
     "name": "stdout",
     "output_type": "stream",
     "text": [
      "The Multiplication Table of:  1\n",
      "1 x 1 = 1\n",
      "1 x 2 = 2\n",
      "1 x 3 = 3\n",
      "1 x 4 = 4\n",
      "1 x 5 = 5\n",
      "1 x 6 = 6\n",
      "1 x 7 = 7\n",
      "1 x 8 = 8\n",
      "1 x 9 = 9\n",
      "1 x 10 = 10\n"
     ]
    }
   ],
   "source": [
    "number = int(input (\"Enter the number of which the user wants to print the multiplication table: \"))      \n",
    "print (\"The Multiplication Table of: \", number)    \n",
    "for count in range(1, 11):      \n",
    "       print (number, 'x', count, '=', number * count)   "
   ]
  },
  {
   "cell_type": "code",
   "execution_count": 11,
   "id": "e3c3a0c3-dbb8-400a-86f2-2f9fafeb94f4",
   "metadata": {},
   "outputs": [],
   "source": [
    "#Write a program to skip printing even numbers using a while loop."
   ]
  },
  {
   "cell_type": "code",
   "execution_count": 12,
   "id": "d9cf150c-837d-4847-b95e-782e6d02140b",
   "metadata": {},
   "outputs": [
    {
     "name": "stdout",
     "output_type": "stream",
     "text": [
      "1\n",
      "3\n",
      "5\n",
      "7\n",
      "9\n"
     ]
    }
   ],
   "source": [
    "n = 0\n",
    "while n < 10:\n",
    "    n += 1\n",
    "    if n % 2 == 0:\n",
    "        continue\n",
    "    print(n)"
   ]
  },
  {
   "cell_type": "code",
   "execution_count": null,
   "id": "bc8d73cf-d9cd-47b0-95e7-c28a14cab093",
   "metadata": {},
   "outputs": [],
   "source": []
  }
 ],
 "metadata": {
  "kernelspec": {
   "display_name": "Python 3 (ipykernel)",
   "language": "python",
   "name": "python3"
  },
  "language_info": {
   "codemirror_mode": {
    "name": "ipython",
    "version": 3
   },
   "file_extension": ".py",
   "mimetype": "text/x-python",
   "name": "python",
   "nbconvert_exporter": "python",
   "pygments_lexer": "ipython3",
   "version": "3.10.8"
  }
 },
 "nbformat": 4,
 "nbformat_minor": 5
}
