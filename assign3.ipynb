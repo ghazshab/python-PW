{
 "cells": [
  {
   "cell_type": "code",
   "execution_count": 1,
   "id": "6c9aed80-db09-465f-a2f2-5d8ff86fb493",
   "metadata": {},
   "outputs": [],
   "source": [
    "#Explain the significance of Python keywords and provide examples of five keywords."
   ]
  },
  {
   "cell_type": "code",
   "execution_count": 2,
   "id": "7f85031e-da63-4d7e-83e6-a9990e54436c",
   "metadata": {},
   "outputs": [],
   "source": [
    "#A keyword does not make use of special characters. Except for underscore ('_'),\n",
    "#no other special character can be used in a Python identifier. Even punctuation marks can not be used.\n",
    "#A few examples of commonly used Python keywords are: \n"
   ]
  },
  {
   "cell_type": "code",
   "execution_count": 4,
   "id": "14543f75-8a16-46e0-a315-e315d833d225",
   "metadata": {},
   "outputs": [
    {
     "name": "stdout",
     "output_type": "stream",
     "text": [
      "\n",
      "Here is a list of the Python keywords.  Enter any keyword to get more help.\n",
      "\n",
      "False               class               from                or\n",
      "None                continue            global              pass\n",
      "True                def                 if                  raise\n",
      "and                 del                 import              return\n",
      "as                  elif                in                  try\n",
      "assert              else                is                  while\n",
      "async               except              lambda              with\n",
      "await               finally             nonlocal            yield\n",
      "break               for                 not                 \n",
      "\n"
     ]
    }
   ],
   "source": [
    ">>> help(\"keywords\")"
   ]
  },
  {
   "cell_type": "code",
   "execution_count": 6,
   "id": "52d44f44-abdb-4f74-bbe0-ffc57a68d013",
   "metadata": {},
   "outputs": [],
   "source": [
    "#Keywords   \n",
    "\n",
    "#Description\n",
    "\n",
    "#and\tThis is a logical operator which returns true if both the operands are true else returns false.\n",
    "#or\tThis is also a logical operator which returns true if anyone operand is true else returns false.\n",
    "#not\tThis is again a logical operator it returns True if the operand is false else returns false.\n",
    "#if\tThis is used to make a conditional statement.\n",
    "#elif\tElif is a condition statement used with an if statement. The elif statement is executed if the previous conditions were not true.\n",
    "#else\tElse is used with if and elif conditional statements. The else block is executed if the given condition is not true.\n",
    "#for\tThis is used to create a loop.\n",
    "#while\tThis keyword is used to create a while loop.\n",
    "#break\tThis is used to terminate the loop.\n",
    "#as\tThis is used to create an alternative.\n",
    "#True\tThis is a boolean value.\n",
    "#False\tThis is also a boolean value.\n",
    "#continue\tIt continues to the next iteration of a loop"
   ]
  },
  {
   "cell_type": "code",
   "execution_count": 7,
   "id": "91220bd5-dae9-4634-8ef8-bbf0fcbe56db",
   "metadata": {},
   "outputs": [
    {
     "name": "stdout",
     "output_type": "stream",
     "text": [
      "1\n",
      "2\n",
      "3\n",
      "4\n",
      "5\n"
     ]
    }
   ],
   "source": [
    "for i in range(1, 11):\n",
    "    print(i)\n",
    "    if i < 5:  \n",
    "        continue\n",
    "    else:  \n",
    "        break"
   ]
  },
  {
   "cell_type": "code",
   "execution_count": 8,
   "id": "f1f861f8-1ddc-4797-8603-5b85dbc21658",
   "metadata": {},
   "outputs": [
    {
     "name": "stdout",
     "output_type": "stream",
     "text": [
      "given number is even\n"
     ]
    }
   ],
   "source": [
    "i=20\n",
    "if(i % 2 == 0):\n",
    "    print(\"given number is even\")\n",
    "else:\n",
    "        print(\"given number is odd\") "
   ]
  },
  {
   "cell_type": "code",
   "execution_count": 9,
   "id": "03388c7b-11f1-4317-b5b7-4db207f6482a",
   "metadata": {},
   "outputs": [],
   "source": [
    "#Descri0e the rules for defining identifiers in Python and provide an example"
   ]
  },
  {
   "cell_type": "code",
   "execution_count": 10,
   "id": "414ac08f-1ae0-42fd-bce3-bbde3fdbeaa3",
   "metadata": {},
   "outputs": [],
   "source": [
    "#Identifiers in Python is a names used to identify a variable, function, class, module, or other objects. \n",
    "#An identifier can only contain letters, digits, and underscores, and cannot start with a digit."
   ]
  },
  {
   "cell_type": "code",
   "execution_count": 11,
   "id": "cd8f56b6-c1b2-40b2-8362-e4845a3f2fb8",
   "metadata": {},
   "outputs": [],
   "source": [
    "#Rules for Naming an Identifier\n",
    "#Identifiers cannot be a keyword.\n",
    "#Identifiers are case-sensitive.\n",
    "#It can have a sequence of letters and digits. However, it must begin with a letter or _. The first letter of an identifier cannot be a digit.\n",
    "#It's a convention to start an identifier with a letter rather _.\n",
    "#Whitespaces are not allowed.\n",
    "#We cannot use special symbols like !, @, #, $, and so on."
   ]
  },
  {
   "cell_type": "code",
   "execution_count": 12,
   "id": "717cfcb7-5dd4-4456-b7c0-cc90d53bac05",
   "metadata": {},
   "outputs": [],
   "source": [
    "#What are comments in Python, and why are they useful6 Provide an example."
   ]
  },
  {
   "cell_type": "code",
   "execution_count": 13,
   "id": "49c7d12f-5200-44a4-aae0-dcd1d2249ef9",
   "metadata": {},
   "outputs": [],
   "source": [
    "#Comments in Python is the inclusion of short descriptions along with the code to increase its readability. A developer uses them to write his or her thought process while writing the code. It explains the basic logic behind why a particular line of code was written. "
   ]
  },
  {
   "cell_type": "code",
   "execution_count": 15,
   "id": "8f6af7cd-377c-4dc1-b27b-478851d3e062",
   "metadata": {},
   "outputs": [
    {
     "name": "stdout",
     "output_type": "stream",
     "text": [
      "Data Science\n"
     ]
    }
   ],
   "source": [
    "course_name = \"Data Science\"\n",
    "print(course_name)"
   ]
  },
  {
   "cell_type": "code",
   "execution_count": 16,
   "id": "65c80797-aab0-460d-801d-8dffdd406c58",
   "metadata": {},
   "outputs": [],
   "source": [
    "#Why is proper indentation important in Python?"
   ]
  },
  {
   "cell_type": "code",
   "execution_count": 17,
   "id": "aac25449-ad0f-4acb-a43f-4f9e1a9b9934",
   "metadata": {},
   "outputs": [],
   "source": [
    "#If you're coding in Python, one of the most important things to remember is the proper indentation of your code. Good Python indentation is necessary to make your code readable and easy to understand, both for yourself and others who may read your code later."
   ]
  },
  {
   "cell_type": "code",
   "execution_count": 18,
   "id": "d974b12f-e8e2-4f6a-8670-b14c64642afc",
   "metadata": {},
   "outputs": [],
   "source": [
    "#In Python, all the code that you type is arranged via correct whitespaces and therefore if at any instance you have a bad indentation, the overall code will not run and the interpreter will simply return an error function."
   ]
  },
  {
   "cell_type": "code",
   "execution_count": 19,
   "id": "28e9cdbb-02a3-44b2-a2f7-92a1ebcd4ea0",
   "metadata": {},
   "outputs": [],
   "source": [
    "#An Expression is a sequence or combination of values, variables, operators and function calls that always produces or returns a result value.\n",
    "\n",
    "#Example: x = 5, y = 3, z = x + y"
   ]
  },
  {
   "cell_type": "code",
   "execution_count": 20,
   "id": "d5d01fc4-f78b-48fa-b618-c3d57597d88f",
   "metadata": {},
   "outputs": [
    {
     "data": {
      "text/plain": [
       "10"
      ]
     },
     "execution_count": 20,
     "metadata": {},
     "output_type": "execute_result"
    }
   ],
   "source": [
    "a=10\n",
    "a"
   ]
  },
  {
   "cell_type": "code",
   "execution_count": 21,
   "id": "e648ff4a-e3b7-43f4-b16d-7cd71481f5d7",
   "metadata": {},
   "outputs": [
    {
     "data": {
      "text/plain": [
       "26"
      ]
     },
     "execution_count": 21,
     "metadata": {},
     "output_type": "execute_result"
    }
   ],
   "source": [
    "a+16"
   ]
  },
  {
   "cell_type": "code",
   "execution_count": 22,
   "id": "e84cd2e4-542c-417f-a54d-afb5d79ddf06",
   "metadata": {},
   "outputs": [],
   "source": [
    "#A Statement is the smallest executable unit of code that has an effect, like creating a variable or displaying a value."
   ]
  },
  {
   "cell_type": "code",
   "execution_count": 23,
   "id": "a90a4ddd-4233-444b-bb0d-d78301582017",
   "metadata": {},
   "outputs": [
    {
     "name": "stdout",
     "output_type": "stream",
     "text": [
      "15\n"
     ]
    }
   ],
   "source": [
    "x = 15\n",
    "print(x)"
   ]
  },
  {
   "cell_type": "code",
   "execution_count": null,
   "id": "ef17cb6c-d7f5-4391-94da-496818e95b88",
   "metadata": {},
   "outputs": [],
   "source": []
  }
 ],
 "metadata": {
  "kernelspec": {
   "display_name": "Python 3 (ipykernel)",
   "language": "python",
   "name": "python3"
  },
  "language_info": {
   "codemirror_mode": {
    "name": "ipython",
    "version": 3
   },
   "file_extension": ".py",
   "mimetype": "text/x-python",
   "name": "python",
   "nbconvert_exporter": "python",
   "pygments_lexer": "ipython3",
   "version": "3.10.8"
  }
 },
 "nbformat": 4,
 "nbformat_minor": 5
}
