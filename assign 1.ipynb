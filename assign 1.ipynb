{
 "cells": [
  {
   "cell_type": "code",
   "execution_count": 1,
   "id": "6f996efa-86eb-4451-b3d5-14c3b619c824",
   "metadata": {},
   "outputs": [],
   "source": [
    "#Covert a iteger to a floatig-poit umber."
   ]
  },
  {
   "cell_type": "code",
   "execution_count": 1,
   "id": "a96390fd-24c3-4bab-aaba-7220c70eb7bd",
   "metadata": {},
   "outputs": [
    {
     "data": {
      "text/plain": [
       "10.0"
      ]
     },
     "execution_count": 1,
     "metadata": {},
     "output_type": "execute_result"
    }
   ],
   "source": [
    "a = 10\n",
    "float(a)"
   ]
  },
  {
   "cell_type": "code",
   "execution_count": 2,
   "id": "896e22ac-08c4-4a2e-a41b-439739b1eb18",
   "metadata": {},
   "outputs": [
    {
     "data": {
      "text/plain": [
       "int"
      ]
     },
     "execution_count": 2,
     "metadata": {},
     "output_type": "execute_result"
    }
   ],
   "source": [
    "type(a)"
   ]
  },
  {
   "cell_type": "code",
   "execution_count": 3,
   "id": "7c56849a-8b36-4b9f-83ec-7517bcd7a6fb",
   "metadata": {},
   "outputs": [],
   "source": [
    "# Covert a float to a iteger."
   ]
  },
  {
   "cell_type": "code",
   "execution_count": 4,
   "id": "f91055dc-697d-4751-9e4d-bf40fcdeddbd",
   "metadata": {},
   "outputs": [
    {
     "data": {
      "text/plain": [
       "float"
      ]
     },
     "execution_count": 4,
     "metadata": {},
     "output_type": "execute_result"
    }
   ],
   "source": [
    "y = 30.45\n",
    "type(y)"
   ]
  },
  {
   "cell_type": "code",
   "execution_count": 5,
   "id": "5d982c9c-b685-4e7d-ac32-26462e8efd25",
   "metadata": {},
   "outputs": [
    {
     "data": {
      "text/plain": [
       "30"
      ]
     },
     "execution_count": 5,
     "metadata": {},
     "output_type": "execute_result"
    }
   ],
   "source": [
    "int(y)"
   ]
  },
  {
   "cell_type": "code",
   "execution_count": 6,
   "id": "18fd8d0a-dd0b-4ce0-b2fa-ffdea1d29122",
   "metadata": {},
   "outputs": [],
   "source": [
    "#2 Covert a iteger to a %trig."
   ]
  },
  {
   "cell_type": "code",
   "execution_count": 7,
   "id": "a0b3713e-909c-465a-bba8-ed2b4f749164",
   "metadata": {},
   "outputs": [
    {
     "data": {
      "text/plain": [
       "int"
      ]
     },
     "execution_count": 7,
     "metadata": {},
     "output_type": "execute_result"
    }
   ],
   "source": [
    "a = 124\n",
    "type(a)"
   ]
  },
  {
   "cell_type": "code",
   "execution_count": 8,
   "id": "a055ae8c-8381-408f-9a52-1ef9f4e52dbc",
   "metadata": {},
   "outputs": [
    {
     "data": {
      "text/plain": [
       "'124'"
      ]
     },
     "execution_count": 8,
     "metadata": {},
     "output_type": "execute_result"
    }
   ],
   "source": [
    "str(a)"
   ]
  },
  {
   "cell_type": "code",
   "execution_count": 9,
   "id": "5ddc5aab-000c-47fd-b1d8-71d0a3581372",
   "metadata": {},
   "outputs": [],
   "source": [
    "#C Covert a li%t to a tuple."
   ]
  },
  {
   "cell_type": "code",
   "execution_count": 11,
   "id": "fb865c4a-483a-4d3d-bb7c-174ff1f13841",
   "metadata": {},
   "outputs": [
    {
     "name": "stdout",
     "output_type": "stream",
     "text": [
      "[1, 2, 3, 'ajay', 'ghaz']\n",
      "tuple =  (1, 2, 3, 'ajay', 'ghaz')\n"
     ]
    }
   ],
   "source": [
    "mylist = [1, 2, 3, \"ajay\", \"ghaz\"]\n",
    "print(mylist)\n",
    "mytuple = tuple(mylist)\n",
    "print(\"tuple = \", mytuple)"
   ]
  },
  {
   "cell_type": "code",
   "execution_count": 12,
   "id": "a9b93a0d-f6b6-48b7-aec7-02f8b0da3f40",
   "metadata": {},
   "outputs": [],
   "source": [
    "#I Covert a tuple to a li%t."
   ]
  },
  {
   "cell_type": "code",
   "execution_count": 13,
   "id": "9b62982c-c7e9-495b-8821-cd9741eac9f5",
   "metadata": {},
   "outputs": [
    {
     "name": "stdout",
     "output_type": "stream",
     "text": [
      "(1, 2, 3, 'ajay', 'ghaz')\n",
      "list =  [1, 2, 3, 'ajay', 'ghaz']\n"
     ]
    }
   ],
   "source": [
    "mytuple = (1, 2, 3, \"ajay\", \"ghaz\")\n",
    "print(mytuple)\n",
    "mylist = list(mytuple)\n",
    "print(\"list = \", mylist)"
   ]
  },
  {
   "cell_type": "code",
   "execution_count": 14,
   "id": "3d7fdf7c-afdc-4dad-8490-9376aef7e978",
   "metadata": {},
   "outputs": [],
   "source": [
    "#Covert a decimal umber to binary."
   ]
  },
  {
   "cell_type": "code",
   "execution_count": 7,
   "id": "4cb7a8fb-eaea-488d-a163-a4c242114592",
   "metadata": {},
   "outputs": [
    {
     "name": "stdin",
     "output_type": "stream",
     "text": [
      "enter the no:   12\n"
     ]
    },
    {
     "name": "stdout",
     "output_type": "stream",
     "text": [
      "0\n",
      "00\n",
      "100\n",
      "1100\n",
      "1100\n"
     ]
    }
   ],
   "source": [
    "n=int(input(\"enter the no:  \"))\n",
    "s=\"\"\n",
    "while (n>0):\n",
    "    r = n%2\n",
    "    s = str(r)+s\n",
    "    print(s)\n",
    "    n=n//2\n",
    "print(int(s))"
   ]
  },
  {
   "cell_type": "code",
   "execution_count": 8,
   "id": "762dca1d-bad5-4412-a585-063add53bb02",
   "metadata": {},
   "outputs": [],
   "source": [
    "#convert a non-zero number to boolean."
   ]
  },
  {
   "cell_type": "code",
   "execution_count": 11,
   "id": "3f3a9256-568a-4b22-be28-1abe1296a454",
   "metadata": {},
   "outputs": [
    {
     "name": "stdout",
     "output_type": "stream",
     "text": [
      "False\n"
     ]
    }
   ],
   "source": [
    "x = 0\n",
    "if x:\n",
    "    print(True)\n",
    "else:\n",
    "    print(False)"
   ]
  },
  {
   "cell_type": "code",
   "execution_count": null,
   "id": "22f0e626-66c1-4b74-beaf-a88af2fa9e23",
   "metadata": {},
   "outputs": [],
   "source": []
  }
 ],
 "metadata": {
  "kernelspec": {
   "display_name": "Python 3 (ipykernel)",
   "language": "python",
   "name": "python3"
  },
  "language_info": {
   "codemirror_mode": {
    "name": "ipython",
    "version": 3
   },
   "file_extension": ".py",
   "mimetype": "text/x-python",
   "name": "python",
   "nbconvert_exporter": "python",
   "pygments_lexer": "ipython3",
   "version": "3.10.8"
  }
 },
 "nbformat": 4,
 "nbformat_minor": 5
}
